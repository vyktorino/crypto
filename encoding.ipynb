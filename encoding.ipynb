{
 "cells": [
  {
   "cell_type": "code",
   "execution_count": 1,
   "metadata": {},
   "outputs": [],
   "source": [
    "from cryptography.fernet import Fernet\n",
    "\n",
    "def write_key():\n",
    "    \"\"\"\n",
    "    Generates a key and save it into a file\n",
    "    \"\"\"\n",
    "    key = Fernet.generate_key()\n",
    "    with open(\"key.key\", \"wb\") as key_file:\n",
    "        key_file.write(key)\n",
    "\n",
    "def load_key():\n",
    "    \"\"\"\n",
    "    Loads the key from the current directory named 'key.key'\n",
    "    \"\"\"\n",
    "    return open(\"key.key\",'rb').read()"
   ]
  },
  {
   "cell_type": "code",
   "execution_count": 2,
   "metadata": {},
   "outputs": [],
   "source": [
    "write_key()\n",
    "key = load_key()"
   ]
  },
  {
   "cell_type": "code",
   "execution_count": 10,
   "metadata": {},
   "outputs": [],
   "source": [
    "message = 'happy birthday me'.encode()"
   ]
  },
  {
   "cell_type": "code",
   "execution_count": 11,
   "metadata": {},
   "outputs": [],
   "source": [
    "f = Fernet(key)"
   ]
  },
  {
   "cell_type": "code",
   "execution_count": 12,
   "metadata": {},
   "outputs": [],
   "source": [
    "encrypted = f.encrypt(message)"
   ]
  },
  {
   "cell_type": "code",
   "execution_count": 13,
   "metadata": {},
   "outputs": [
    {
     "data": {
      "text/plain": [
       "b'gAAAAABikfKhgl5UeBfAfLpYbM7II0jiTW4prYh4-cioQj6-9U7V9YxLs_DB2ntaBkfBbbYi0fv0rxFXEOP5Zw5Pi05izEmcZoyqDwVH4qCdt62NbFZnI20='"
      ]
     },
     "execution_count": 13,
     "metadata": {},
     "output_type": "execute_result"
    }
   ],
   "source": [
    "encrypted"
   ]
  },
  {
   "cell_type": "code",
   "execution_count": 14,
   "metadata": {},
   "outputs": [
    {
     "name": "stdout",
     "output_type": "stream",
     "text": [
      "b'happy birthday me'\n"
     ]
    }
   ],
   "source": [
    "decrypted_encrypted = f.decrypt(encrypted)\n",
    "print(decrypted_encrypted)"
   ]
  },
  {
   "cell_type": "code",
   "execution_count": 15,
   "metadata": {},
   "outputs": [],
   "source": [
    "def encrypt(filename, key):\n",
    "    \"\"\"\n",
    "    Given a filename (str) and key (bytes), it encrypts the file and write it\n",
    "    \"\"\"\n",
    "\n",
    "    f = Fernet(key)\n",
    "\n",
    "    with open(filename, 'rb') as file:\n",
    "        file_data = file.read()\n",
    "\n",
    "    # encrypt data\n",
    "    encrypted_data = f.encrypt(file_data)\n",
    "\n",
    "    # write the encrypted file\n",
    "    with open(filename, 'wb') as file:\n",
    "        file.write(encrypted_data)\n",
    "    \n"
   ]
  },
  {
   "cell_type": "code",
   "execution_count": 18,
   "metadata": {},
   "outputs": [],
   "source": [
    "def decrypt(filename, key):\n",
    "    \"\"\"\n",
    "    Given a filename (str) and key (bytes), it decrypts the file and write it\n",
    "    \"\"\"\n",
    "    f = Fernet(key)\n",
    "    with open(filename, \"rb\") as file:\n",
    "        # read the encrypted data\n",
    "        encrypted_data = file.read()\n",
    "    # decrypt data\n",
    "    decrypted_data = f.decrypt(encrypted_data)\n",
    "    # write the original file\n",
    "    with open(filename, \"wb\") as file:\n",
    "        file.write(decrypted_data)"
   ]
  },
  {
   "cell_type": "code",
   "execution_count": 16,
   "metadata": {},
   "outputs": [],
   "source": [
    "key = load_key()\n",
    "file = \"test.txt\"\n",
    "encrypt(file, key)"
   ]
  },
  {
   "cell_type": "code",
   "execution_count": 19,
   "metadata": {},
   "outputs": [],
   "source": [
    "decrypt(file, key)"
   ]
  }
 ],
 "metadata": {
  "interpreter": {
   "hash": "7bcb9c20231da8ae2485ba95fad467140b74c38e59c7ce214f4939c66ef672d0"
  },
  "kernelspec": {
   "display_name": "Python 3.10.4 64-bit",
   "language": "python",
   "name": "python3"
  },
  "language_info": {
   "codemirror_mode": {
    "name": "ipython",
    "version": 3
   },
   "file_extension": ".py",
   "mimetype": "text/x-python",
   "name": "python",
   "nbconvert_exporter": "python",
   "pygments_lexer": "ipython3",
   "version": "3.10.4"
  },
  "orig_nbformat": 4
 },
 "nbformat": 4,
 "nbformat_minor": 2
}
